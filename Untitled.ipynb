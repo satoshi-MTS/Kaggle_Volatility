{
 "cells": [
  {
   "cell_type": "code",
   "execution_count": 1,
   "id": "167ce81c-51bf-4725-9b20-7a5fc47c3e2e",
   "metadata": {},
   "outputs": [],
   "source": [
    "# For each row_id in the test set, you must predict the target variable. The file should contain a header and have the following format:\n",
    "# Submissions are evaluated using the root mean square percentage error\n",
    "\n",
    "# This is a forecasting competition with an active training phase and a second period where models will be run against real market data.\n",
    "# June 28, 2021 - Start Date to September 27, 2021 - Final submission deadline\n",
    "\n",
    "# Forecasting Timeline:January 10, 2022 - Competition End Date\n",
    "\n",
    "# 1st Place - $25,000\n",
    "# 2nd Place - $20,000\n",
    "# 3rd Place - $15,000\n",
    "# 4th Place - $10,000\n",
    "# 5th - 10th Place - $5,000\n",
    "\n",
    "# Submissions to this competition must be made through Notebooks. In order for the \"Submit\" button to be active after a commit, the following conditions must be met:\n",
    "# CPU Notebook <= 9 hours run-time\n",
    "# GPU Notebook <= 9 hours run-time\n",
    "# Internet access disabled\n",
    "# Freely & publicly available external data is allowed, including pre-trained models\n",
    "# Submission file must be named submission.csv"
   ]
  },
  {
   "cell_type": "code",
   "execution_count": null,
   "id": "65c1388e-99b8-4b6c-b1cd-39d7b847ab97",
   "metadata": {},
   "outputs": [],
   "source": []
  }
 ],
 "metadata": {
  "kernelspec": {
   "display_name": "Python 3",
   "language": "python",
   "name": "python3"
  },
  "language_info": {
   "codemirror_mode": {
    "name": "ipython",
    "version": 3
   },
   "file_extension": ".py",
   "mimetype": "text/x-python",
   "name": "python",
   "nbconvert_exporter": "python",
   "pygments_lexer": "ipython3",
   "version": "3.6.12"
  }
 },
 "nbformat": 4,
 "nbformat_minor": 5
}
